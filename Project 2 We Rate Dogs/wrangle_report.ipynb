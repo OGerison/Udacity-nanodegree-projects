{
 "cells": [
  {
   "cell_type": "markdown",
   "metadata": {},
   "source": [
    "## Reporting: wragle_report\n",
    "* Create a **300-600 word written report** called \"wrangle_report.pdf\" or \"wrangle_report.html\" that briefly describes your wrangling efforts. This is to be framed as an internal document."
   ]
  },
  {
   "cell_type": "markdown",
   "metadata": {},
   "source": [
    "### Introduction"
   ]
  },
  {
   "cell_type": "markdown",
   "metadata": {},
   "source": [
    "This report presents and discusses the process of wrangling to assemble and clean the data that was required for Project 2: Wrangle and Analyze a Dataset of the WeRateDog twitter page and other data sources.\n",
    "\n",
    "Wrangling is a vital process in the data analysis life cycle and it is made up of:\n",
    "\n",
    "• Gathering\n",
    "\n",
    "• Assessing\n",
    "\n",
    "• Cleaning data. "
   ]
  },
  {
   "cell_type": "markdown",
   "metadata": {},
   "source": [
    "### 1. Gathering Data"
   ]
  },
  {
   "cell_type": "markdown",
   "metadata": {},
   "source": [
    "This was done in 3 ways in order to come up with 3 data sets.\n",
    "\n",
    "The first method was downloading a dataset on WeRateDogs which was a csv file.\n",
    "\n",
    "The second method was to programtically download and save a tsv file from the internet.\n",
    "\n",
    "The third method was to use the Twiiter API to download data off twitter."
   ]
  },
  {
   "cell_type": "markdown",
   "metadata": {},
   "source": [
    "At the end of the process, i had three datasets and i had to commence the assessment and cleaning steps"
   ]
  },
  {
   "cell_type": "markdown",
   "metadata": {},
   "source": [
    "### 2. Assessing the Data"
   ]
  },
  {
   "cell_type": "markdown",
   "metadata": {},
   "source": [
    "Assessing the data was done visually and programatically and i came across quality issues like Keep original ratings (no retweets) that have images, Delete columns that won't be used for analysis, Incorrect columns case in point doggo, floofer, pupper and puppo columns, Separate timestamp into day - month - year (3 columns), Correct numerators with decimals, Correct denominators other than 10 among others as well as tidiness issues like the need to combine the three datasets into one."
   ]
  },
  {
   "cell_type": "markdown",
   "metadata": {},
   "source": [
    "### 3. Cleaning the Data"
   ]
  },
  {
   "cell_type": "markdown",
   "metadata": {},
   "source": [
    "Cleaning the data became much easier due to the fact that the issues had already been identified. I then proceeded to tackle issue by issue by correcting the issue and then running a test to ensure the problem had been solved."
   ]
  },
  {
   "cell_type": "markdown",
   "metadata": {},
   "source": [
    "After the data had been cleaned, I then stored it in a new dataframe then converted into a csv \"twitter archive master\"."
   ]
  },
  {
   "cell_type": "markdown",
   "metadata": {},
   "source": [
    "### Outro"
   ]
  },
  {
   "cell_type": "markdown",
   "metadata": {},
   "source": [
    "This wrangling process enabled me to build a foundation to carry out my insights and visualizations as they other report indicates."
   ]
  }
 ],
 "metadata": {
  "kernelspec": {
   "display_name": "Python 3.10.2 64-bit",
   "language": "python",
   "name": "python3"
  },
  "language_info": {
   "codemirror_mode": {
    "name": "ipython",
    "version": 3
   },
   "file_extension": ".py",
   "mimetype": "text/x-python",
   "name": "python",
   "nbconvert_exporter": "python",
   "pygments_lexer": "ipython3",
   "version": "3.10.2"
  },
  "vscode": {
   "interpreter": {
    "hash": "556bd10828facf49bded814fcd04d9b74f3d158f382194983a47f221d630014b"
   }
  }
 },
 "nbformat": 4,
 "nbformat_minor": 2
}
