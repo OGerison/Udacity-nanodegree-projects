{
 "cells": [
  {
   "cell_type": "markdown",
   "metadata": {},
   "source": [
    "## Report: act_report\n",
    "* Create a **250-word-minimum written report** called \"act_report.pdf\" or \"act_report.html\" that communicates the insights and displays the visualization(s) produced from your wrangled data. This is to be framed as an external document, like a blog post or magazine article, for example."
   ]
  },
  {
   "cell_type": "markdown",
   "metadata": {},
   "source": [
    "### Introduction"
   ]
  },
  {
   "cell_type": "markdown",
   "metadata": {},
   "source": [
    "This report looks to build on the wrangle_report and will present the insights and visualizations from the Project."
   ]
  },
  {
   "cell_type": "markdown",
   "metadata": {},
   "source": [
    "The Insights presented stem from a few questions that i wanted to be answered. They Include;"
   ]
  },
  {
   "cell_type": "markdown",
   "metadata": {},
   "source": [
    "#### Most Common Dog"
   ]
  },
  {
   "cell_type": "markdown",
   "metadata": {},
   "source": [
    "![alt text](common.png \"Most Coomon Dog\")"
   ]
  },
  {
   "cell_type": "markdown",
   "metadata": {},
   "source": [
    "From the Code snippet, We can see the Golden reriever is the ost common dog."
   ]
  },
  {
   "cell_type": "markdown",
   "metadata": {},
   "source": [
    "#### Dogs with most and least ratings"
   ]
  },
  {
   "cell_type": "markdown",
   "metadata": {},
   "source": [
    "![alt text](output.png \"Title\")"
   ]
  },
  {
   "cell_type": "markdown",
   "metadata": {},
   "source": [
    "The Cocker Spaniel had the lowest ratings received whilst unsurprinsgly the Golden Retriever had the highest ratings received"
   ]
  },
  {
   "cell_type": "markdown",
   "metadata": {},
   "source": [
    "#### Most and Least Common Dog Names"
   ]
  },
  {
   "cell_type": "markdown",
   "metadata": {},
   "source": [
    "![alt text](Capture.png \"Most and Least Common Dog Names\")"
   ]
  },
  {
   "cell_type": "markdown",
   "metadata": {},
   "source": [
    "### Insight\n",
    " We can see that Lucy, Cooper and Charlie are the most common dog names while Danny, Gin, Traviss, Nigel and Bayley are among the least common names."
   ]
  }
 ],
 "metadata": {
  "kernelspec": {
   "display_name": "Python 3.9.7 ('base')",
   "language": "python",
   "name": "python3"
  },
  "language_info": {
   "codemirror_mode": {
    "name": "ipython",
    "version": 3
   },
   "file_extension": ".py",
   "mimetype": "text/x-python",
   "name": "python",
   "nbconvert_exporter": "python",
   "pygments_lexer": "ipython3",
   "version": "3.9.7"
  },
  "vscode": {
   "interpreter": {
    "hash": "c08d0096f40165df79958502a2c46d54996fd7312bf62a1eaa8fa8dbdde09077"
   }
  }
 },
 "nbformat": 4,
 "nbformat_minor": 2
}
